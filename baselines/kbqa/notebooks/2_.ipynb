{
 "cells": [
  {
   "cell_type": "code",
   "execution_count": 17,
   "id": "initial_id",
   "metadata": {
    "collapsed": true,
    "ExecuteTime": {
     "end_time": "2024-02-05T21:37:20.429246214Z",
     "start_time": "2024-02-05T21:37:20.387049831Z"
    }
   },
   "outputs": [
    {
     "name": "stdout",
     "output_type": "stream",
     "text": [
      "The autoreload extension is already loaded. To reload it, use:\n",
      "  %reload_ext autoreload\n"
     ]
    }
   ],
   "source": [
    "import numpy as np\n",
    "\n",
    "%load_ext autoreload\n",
    "%autoreload 2"
   ]
  },
  {
   "cell_type": "code",
   "outputs": [],
   "source": [
    "import sys\n",
    "\n",
    "sys.path.append(\"../../../\")\n",
    "\n",
    "import os\n",
    "from pathlib import Path\n",
    "import itertools\n",
    "\n",
    "import srsly\n",
    "import pandas as pd\n",
    "from statistics import mean\n",
    "\n",
    "import numpy as np\n",
    "from unidecode import unidecode\n",
    "from tqdm.auto import tqdm, trange\n",
    "import torch\n",
    "from sentence_transformers.util import cos_sim\n",
    "from collections import defaultdict\n",
    "from baselines.kbqa.subgraph_retriever import NHopRetriever, FilteredTriplesNHopRetriever\n",
    "from gqqd.defaults import ANNOTATED_PATH, OUTPUT_PATH, WIKIDATA_GRAPHS, ROOT_PATH\n",
    "from gqqd.data.inforex import load_inforex_output_df\n",
    "from gqqd.data.loaders import load_wiki_content_df\n",
    "from baselines.kbqa.data import load_dataset, load_graph\n",
    "from baselines.defaults import KBQA_BASELINES_PATH\n",
    "from baselines.kbqa.predictor import GPTClient"
   ],
   "metadata": {
    "collapsed": false,
    "ExecuteTime": {
     "end_time": "2024-02-05T21:37:20.796749227Z",
     "start_time": "2024-02-05T21:37:20.772455798Z"
    }
   },
   "id": "a690a7c7dd772867",
   "execution_count": 18
  },
  {
   "cell_type": "markdown",
   "source": [
    "## Load data"
   ],
   "metadata": {
    "collapsed": false
   },
   "id": "7af4e618efb3a21e"
  },
  {
   "cell_type": "code",
   "outputs": [],
   "source": [
    "dataset = load_dataset(\"kbqa_natural\")\n",
    "triples, labels = load_graph(1)\n",
    "triples = np.array(triples)\n",
    "df = pd.DataFrame(dataset[\"train\"])\n",
    "queries_emb = torch.load(\n",
    "    KBQA_BASELINES_PATH / \"embeddings/emb_kbqa_natural_train.pt\", map_location=\"cpu\"\n",
    ")\n",
    "triples_emb = torch.load(\n",
    "    KBQA_BASELINES_PATH / \"embeddings/emb_triples_hop_1.pt\", map_location=\"cpu\"\n",
    ")"
   ],
   "metadata": {
    "collapsed": false,
    "ExecuteTime": {
     "end_time": "2024-02-05T21:37:25.307278563Z",
     "start_time": "2024-02-05T21:37:22.098755865Z"
    }
   },
   "id": "a1708fed2fc2d903",
   "execution_count": 19
  },
  {
   "cell_type": "code",
   "outputs": [
    {
     "name": "stdout",
     "output_type": "stream",
     "text": [
      "Poniżej znajdują się fakty w postaci trójek grafu wiedzy w formacie (encja, relacja, encja), mające znaczenie do udzielenia odpowiedzi na pytanie.\n",
      "{triples}\n",
      "Pytanie: {question} \n",
      "Encje które są odpowiedzią: \n"
     ]
    }
   ],
   "source": [
    "config = srsly.read_yaml(ROOT_PATH / \"baselines/kbqa/gpt_config_knowledge.yaml\")\n",
    "print(config[\"final_message_schema\"])"
   ],
   "metadata": {
    "collapsed": false,
    "ExecuteTime": {
     "end_time": "2024-02-05T21:37:25.331934644Z",
     "start_time": "2024-02-05T21:37:25.307755730Z"
    }
   },
   "id": "291d97a60889a318",
   "execution_count": 20
  },
  {
   "cell_type": "code",
   "outputs": [],
   "source": [
    "client = GPTClient([], config[\"final_message_schema\"], \"gpt-3.5-turbo\")\n",
    "retriever = FilteredTriplesNHopRetriever(2, triples, labels=labels, triples_emb=triples_emb)"
   ],
   "metadata": {
    "collapsed": false,
    "ExecuteTime": {
     "end_time": "2024-02-05T21:37:30.345874389Z",
     "start_time": "2024-02-05T21:37:27.668181138Z"
    }
   },
   "id": "c52b9e9522a2401a",
   "execution_count": 21
  },
  {
   "cell_type": "code",
   "outputs": [
    {
     "name": "stdout",
     "output_type": "stream",
     "text": [
      "gdzie zamieszkują łowiczanie?\n",
      "\n",
      "Answer: ['Q11750550', 'Q643843']\n",
      "Accuracy: 0\n",
      "\n",
      "Łowicz, mieszkańcy Łowicza, województwo łódzkie\n",
      "================================================================================\n",
      "\n",
      "w jakim regionie leży poznań?\n",
      "(\"Prowincja Poznańska\", \"kontynent\", \"Europa\"), (\"Poznań\", \"miasto partnerskie\", \"Region Hanower\"), (\"Województwo poznańskie\", \"państwo\", \"Polska\"), (\"Poznań\", \"kontynent\", \"Europa\"), (\"Region Hanower\", \"miasto partnerskie\", \"Poznań\"), (\"Poznań\", \"znajduje się w jednostce administracyjnej\", \"województwo wielkopolskie\"), (\"powiat poznański\", \"państwo\", \"Polska\"), (\"województwo wielkopolskie\", \"podział administracyjny\", \"Poznań\"), (\"Wielkie Księstwo Poznańskie\", \"kontynent\", \"Europa\"), (\"Poznań\", \"\", \"\"), (\"Województwo poznańskie\", \"państwo\", \"Polska Rzeczpospolita Ludowa\"), (\"Prowincja Poznańska\", \"państwo\", \"Królestwo Prus\"), (\"województwo poznańskie\", \"państwo\", \"II Rzeczpospolita\"), (\"Województwo poznańskie\", \"znajduje się w jednostce administracyjnej\", \"Polska\"), (\"Prowincja Poznańska\", \"znajduje się w jednostce administracyjnej\", \"Królestwo Prus\"), (\"województwo poznańskie\", \"państwo\", \"Korona Królestwa Polskiego\"), (\"Województwo poznańskie\", \"znajduje się w jednostce administracyjnej\", \"Polska Rzeczpospolita Ludowa\"), (\"Województwo poznańskie\", \"znajduje się w jednostce administracyjnej\", \"Polska Rzeczpospolita Ludowa\"), (\"województwo poznańskie\", \"znajduje się w jednostce administracyjnej\", \"II Rzeczpospolita\"), (\"powiat poznański\", \"znajduje się w jednostce administracyjnej\", \"województwo wielkopolskie\")\n",
      "Answer: ['Q54187']\n",
      "Accuracy: 0\n",
      "\n",
      "Województwo wielkopolskie\n",
      "================================================================================\n"
     ]
    }
   ],
   "source": [
    "usage = []\n",
    "accs = []\n",
    "\n",
    "for example in df.head(2).itertuples():\n",
    "    print(example.question)\n",
    "    topic = example.topic\n",
    "    subgraph = retriever.retrieve(topic, query_emb=queries_emb[example.Index], k_triples=20)\n",
    "    subgraph_str = \", \".join(\n",
    "        f\"({labels.get(h, h)}, {labels.get(r, r)}, {labels.get(t, t)})\" for h, r, t in subgraph\n",
    "    )\n",
    "    subgraph_str = \", \".join(\n",
    "        f'(\"{labels.get(h, h)}\", \"{labels.get(r, r)}\", \"{labels.get(t, t)}\")'\n",
    "        for h, r, t in subgraph\n",
    "    )\n",
    "    res = client.get_response(triples=subgraph_str, question=example.question)\n",
    "    usage.append(res[1][\"usage\"])\n",
    "    answer = example.answer\n",
    "    acc = mean(1 if entity in res[0] else 0 for entity in answer)\n",
    "    accs.append(acc)\n",
    "    print(subgraph_str)\n",
    "    print(f\"Answer: {answer}\")\n",
    "    print(f\"Accuracy: {acc}\")\n",
    "    print()\n",
    "    print(res[0])\n",
    "    print(\"=\" * 80)\n",
    "    print()\n",
    "    # break"
   ],
   "metadata": {
    "collapsed": false,
    "ExecuteTime": {
     "end_time": "2024-02-05T21:38:15.631748404Z",
     "start_time": "2024-02-05T21:38:12.813565472Z"
    }
   },
   "id": "31e4bcdbf852c7e0",
   "execution_count": 24
  },
  {
   "cell_type": "markdown",
   "source": [],
   "metadata": {
    "collapsed": false
   },
   "id": "bdca111ce79e25"
  },
  {
   "cell_type": "code",
   "outputs": [
    {
     "data": {
      "text/plain": "0.41"
     },
     "execution_count": 8,
     "metadata": {},
     "output_type": "execute_result"
    }
   ],
   "source": [
    "mean(accs)"
   ],
   "metadata": {
    "collapsed": false,
    "ExecuteTime": {
     "end_time": "2024-02-04T15:12:42.468416073Z",
     "start_time": "2024-02-04T15:12:42.427002277Z"
    }
   },
   "id": "ba3e7d0c8a1ca92",
   "execution_count": 8
  },
  {
   "cell_type": "code",
   "outputs": [
    {
     "name": "stdout",
     "output_type": "stream",
     "text": [
      "3.5: Cost per example: 0.00025914\n",
      "3.5: Cost for 1120: 0.29023679999999996\n",
      "gpt-4-0125-preview: Cost per example: 0.0051827999999999996\n",
      "gpt-4-0125-preview: Cost for 1120: 5.804735999999999\n",
      "gpt-4: Cost per example: 0.0151656\n",
      "gpt-4: Cost for 1120: 16.985471999999998\n"
     ]
    }
   ],
   "source": [
    "usage_df = pd.DataFrame(usage)\n",
    "cost = (\n",
    "    usage_df.prompt_tokens.sum() / 1000 * 0.0005 + usage_df.completion_tokens.sum() / 1000 * 0.0015\n",
    ")\n",
    "cost_per_example = cost / len(usage_df)\n",
    "print(f\"3.5: Cost per example: {cost_per_example}\")\n",
    "print(f\"3.5: Cost for 1120: {cost_per_example * 1120}\")\n",
    "\n",
    "cost = usage_df.prompt_tokens.sum() / 1000 * 0.01 + usage_df.completion_tokens.sum() / 1000 * 0.03\n",
    "cost_per_example = cost / len(usage_df)\n",
    "print(f\"gpt-4-0125-preview: Cost per example: {cost_per_example}\")\n",
    "print(f\"gpt-4-0125-preview: Cost for 1120: {cost_per_example * 1120}\")\n",
    "\n",
    "cost = usage_df.prompt_tokens.sum() / 1000 * 0.03 + usage_df.completion_tokens.sum() / 1000 * 0.06\n",
    "cost_per_example = cost / len(usage_df)\n",
    "print(f\"gpt-4: Cost per example: {cost_per_example}\")\n",
    "print(f\"gpt-4: Cost for 1120: {cost_per_example * 1120}\")"
   ],
   "metadata": {
    "collapsed": false,
    "ExecuteTime": {
     "end_time": "2024-02-04T15:12:42.480243139Z",
     "start_time": "2024-02-04T15:12:42.467771653Z"
    }
   },
   "id": "4d8cbacb6b5e32ab",
   "execution_count": 9
  },
  {
   "cell_type": "code",
   "outputs": [
    {
     "name": "stdout",
     "output_type": "stream",
     "text": [
      "Pytanie: {question} \n",
      "Encje które są odpowiedzią: \n"
     ]
    }
   ],
   "source": [
    "config = srsly.read_yaml(ROOT_PATH / \"baselines/kbqa/gpt_config_noknowledge.yaml\")\n",
    "print(config[\"final_message_schema\"])\n",
    "client = GPTClient([], config[\"final_message_schema\"], \"gpt-3.5-turbo\")"
   ],
   "metadata": {
    "collapsed": false,
    "ExecuteTime": {
     "end_time": "2024-02-04T15:12:42.518240180Z",
     "start_time": "2024-02-04T15:12:42.479564675Z"
    }
   },
   "id": "b22302a2783b4012",
   "execution_count": 10
  },
  {
   "cell_type": "code",
   "outputs": [
    {
     "name": "stdout",
     "output_type": "stream",
     "text": [
      "gdzie zamieszkują łowiczanie?\n",
      "Answer: ['Księstwo łowickie', 'Mazowsze']\n",
      "Accuracy: 0\n",
      "\n",
      "Łowiczanie zamieszkują w Łowiczu, mieście położonym w centralnej Polsce, w województwie łódzkim.\n",
      "================================================================================\n",
      "\n",
      "w jakim regionie leży poznań?\n",
      "Answer: ['województwo wielkopolskie']\n",
      "Accuracy: 0\n",
      "\n",
      "Wielkopolska\n",
      "================================================================================\n",
      "\n",
      "gdzie jest japonia?\n",
      "Answer: ['Daleki Wschód', 'Ocean Spokojny']\n",
      "Accuracy: 0\n",
      "\n",
      "Japonia jest wyspiarskim państwem leżącym na wschodnim wybrzeżu Azji.\n",
      "================================================================================\n",
      "\n",
      "kto jest autorem książki „mały książę?\n",
      "Answer: ['Antoine de Saint-Exupéry']\n",
      "Accuracy: 1\n",
      "\n",
      "Antoine de Saint-Exupéry\n",
      "================================================================================\n",
      "\n",
      "w jakim powstaniu brał udział wokulski?\n",
      "Answer: ['powstanie styczniowe']\n",
      "Accuracy: 0\n",
      "\n",
      "Wokulski nie brał udziału w żadnym powstaniu.\n",
      "================================================================================\n",
      "\n",
      "kim z zawodu był krzysztof komeda?\n",
      "Answer: ['otorynolaryngologia']\n",
      "Accuracy: 0\n",
      "\n",
      "Krzysztof Komeda był polskim muzykiem, kompozytorem i pianistą.\n",
      "================================================================================\n",
      "\n",
      "czym jest republika?\n",
      "Answer: ['ustrój polityczny']\n",
      "Accuracy: 0\n",
      "\n",
      "Republika to forma rządów, w której władza jest sprawowana przez przedstawicieli wybranych przez obywateli. W republikach, głowa państwa jest zazwyczaj wybierana na określony czas i ma ograniczone uprawnienia. W przeciwieństwie do monarchii, w republikach władza nie jest dziedziczna i nie jest przekazywana z pokolenia na pokolenie. Republiki mogą mieć różne systemy polityczne, takie jak republika parlamentarna, prezydencka lub semiprezydencka.\n",
      "================================================================================\n",
      "\n",
      "jaki system rządów obowiązuje w polsce?\n",
      "Answer: ['republika', 'system parlamentarny']\n",
      "Accuracy: 0\n",
      "\n",
      "W Polsce obowiązuje system rządów parlamentarno-demokratyczny.\n",
      "================================================================================\n",
      "\n",
      "kto jest wydawcą rzeczpospolitej?\n",
      "Answer: ['Spółdzielnia Wydawnicza „Czytelnik”']\n",
      "Accuracy: 0\n",
      "\n",
      "Wydawcą Rzeczpospolitej jest Grupa Wydawnicza Polskapresse.\n",
      "================================================================================\n",
      "\n",
      "do jakiego klubu idzie ronaldo?\n",
      "Answer: ['Al-Nassr']\n",
      "Accuracy: 0\n",
      "\n",
      "Juventus Turyn\n",
      "================================================================================\n",
      "\n",
      "co abraham dostał od boga?\n",
      "Answer: ['Izrael']\n",
      "Accuracy: 0\n",
      "\n",
      "1. Abraham otrzymał obietnicę od Boga, że będzie miał potomstwo liczne jak gwiazdy na niebie.\n",
      "2. Otrzymał obietnicę, że jego potomstwo będzie błogosławione i będzie miało błogosławieństwo dla wszystkich narodów.\n",
      "3. Otrzymał ziemię Kanaan jako dziedzictwo dla swojego potomstwa.\n",
      "4. Otrzymał obietnicę, że Bóg będzie z nim i będzie go chronił.\n",
      "5. Otrzymał obietnicę, że Bóg będzie go błogosławił i uczyni go wielkim narodem.\n",
      "================================================================================\n",
      "\n",
      "jaki silnik ma pociąg?\n",
      "Answer: ['silnik o zapłonie samoczynnym', 'silnik czterosuwowy', 'silnik dwusuwowy', 'Silnik wysokoprężny z wtryskiem bezpośrednim']\n",
      "Accuracy: 0\n",
      "\n",
      "1. Elektryczny\n",
      "2. Spalinowy\n",
      "3. Parowy\n",
      "4. Hybrydowy\n",
      "5. Maglev (magnetyczny)\n",
      "6. Wodorowy\n",
      "7. Napędzany gazem ziemnym\n",
      "8. Napędzany bateriami\n",
      "9. Napędzany ogniwami paliwowymi\n",
      "10. Napędzany energią słoneczną\n",
      "================================================================================\n",
      "\n",
      "kto posługuje się echolokacją?\n",
      "Answer: ['nietoperze', 'walenie', 'Ryjówkowate', 'Tenrekowate', 'ptaki']\n",
      "Accuracy: 0.2\n",
      "\n",
      "Niektóre zwierzęta, takie jak nietoperze i delfiny, posługują się echolokacją.\n",
      "================================================================================\n",
      "\n",
      "który sobór ustalił liczbę 7 sakramentów?\n",
      "Answer: ['Sobór trydencki']\n",
      "Accuracy: 0\n",
      "\n",
      "Sobór w Lyonie w 1274 roku oraz Sobór w Trydencie w latach 1545-1563.\n",
      "================================================================================\n",
      "\n",
      "nad jakim morzem leży turcja?\n",
      "Answer: ['Morze Śródziemne', 'Morze Egejskie', 'Morze Czarne', 'Morze Marmara']\n",
      "Accuracy: 0.75\n",
      "\n",
      "Morze Śródziemne, Morze Egejskie, Morze Czarne.\n",
      "================================================================================\n",
      "\n",
      "jaki jest system prawny w polsce?\n",
      "Answer: ['System prawa kontynentalnego']\n",
      "Accuracy: 0\n",
      "\n",
      "- System prawny w Polsce oparty jest na prawie kontynentalnym, które wywodzi się głównie z prawa rzymskiego.\n",
      "- Polska jest państwem demokratycznym, a jej system prawny opiera się na konstytucji.\n",
      "- Polska jest członkiem Unii Europejskiej, dlatego też część prawa polskiego jest zharmonizowana z prawem unijnym.\n",
      "- W Polsce obowiązuje zasada podziału władzy na trzy odrębne gałęzie: władzę ustawodawczą, wykonawczą i sądowniczą.\n",
      "- Najwyższym organem władzy ustawodawczej jest parlament, składający się z dwóch izb: Sejmu i Senatu.\n",
      "- Władzę wykonawczą sprawuje rząd, na czele którego stoi premier.\n",
      "- Władzę sądowniczą sprawują niezawisłe sądy, które rozstrzygają spory i stosują prawo w indywidualnych sprawach.\n",
      "- W Polsce istnieje hierarchiczny system sądów, z Sądem Najwyższym na szczycie.\n",
      "- W Polsce istnieje również Trybunał Konstytucyjny, który odpowiada za kontrolę zgodności ustaw z konstytucją.\n",
      "- W Polsce obowiązuje kodeks cywilny, kodeks karny, kodeks postępowania cywilnego, kodeks postępowania karnego i wiele innych ustaw regulujących różne dziedziny życia społecznego.\n",
      "================================================================================\n",
      "\n",
      "gdzie zamieszkuje najwięcej pingwinów?\n",
      "Answer: ['Antarktyda', 'Ameryka Południowa']\n",
      "Accuracy: 0\n",
      "\n",
      "Najwięcej pingwinów zamieszkuje na Antarktydzie oraz na pobliskich wyspach, takich jak Wyspa Króla Jerzego, Wyspa Elefantów czy Wyspa Deception.\n",
      "================================================================================\n",
      "\n",
      "co oprócz temperatury wpływa na parowanie?\n",
      "Answer: ['ciśnienie cząstkowe']\n",
      "Accuracy: 0\n",
      "\n",
      "ciśnienie atmosferyczne, wilgotność powietrza, powierzchnia parująca, rodzaj substancji, obecność innych substancji w otoczeniu, intensywność promieniowania słonecznego, prędkość wiatru\n",
      "================================================================================\n",
      "\n",
      "gdzie znajdowała się troja?\n",
      "Answer: ['Troada', 'Anatolia']\n",
      "Accuracy: 0\n",
      "\n",
      "Troja znajdowała się w dzisiejszej Turcji, na wybrzeżu Morza Egejskiego.\n",
      "================================================================================\n",
      "\n",
      "w jakim języku został spisany stary testament?\n",
      "Answer: ['język hebrajski']\n",
      "Accuracy: 0\n",
      "\n",
      "Stary Testament został spisany głównie w języku hebrajskim, choć niektóre fragmenty zostały napisane w języku aramejskim.\n",
      "================================================================================\n",
      "\n",
      "kto jako pierwszy odkrył amerykę?\n",
      "Answer: ['Leif Eriksson']\n",
      "Accuracy: 0\n",
      "\n",
      "Kolumb, Leif Erikson, Wikingowie\n",
      "================================================================================\n",
      "\n",
      "jak nazywa się najwyższy budynek w polsce?\n",
      "Answer: ['Varso']\n",
      "Accuracy: 1\n",
      "\n",
      "Najwyższy budynek w Polsce nazywa się Varso Tower.\n",
      "================================================================================\n",
      "\n",
      "kto założył towarzystwo demokratyczne?\n",
      "Answer: ['Jan Nepomucen Janowski', 'Tadeusz Krępowiecki', 'Kazimierz Aleksander Pułaski']\n",
      "Accuracy: 0\n",
      "\n",
      "Towarzystwo Demokratyczne zostało założone przez grupę polskich działaczy politycznych i społecznych w 1989 roku. Nie ma jednej konkretnej osoby, która była założycielem tego towarzystwa, ponieważ było to inicjatywa wielu osób. Jednym z głównych inicjatorów był Bronisław Geremek, polski historyk i polityk, który odegrał ważną rolę w procesie transformacji ustrojowej w Polsce.\n",
      "================================================================================\n",
      "\n",
      "do jakiej grupy zwierząt należą maskonury?\n",
      "Answer: ['alki']\n",
      "Accuracy: 0\n",
      "\n",
      "Maskonury należą do grupy ptaków.\n",
      "================================================================================\n",
      "\n",
      "kto obecnie pełni funkcję komendanta głównego straży granicznej?\n",
      "Answer: ['Tomasz Praga']\n",
      "Accuracy: 0\n",
      "\n",
      "Obecnie funkcję komendanta głównego Straży Granicznej pełni gen. insp. Jarosław Szymczyk.\n",
      "================================================================================\n"
     ]
    }
   ],
   "source": [
    "usage = []\n",
    "accs = []\n",
    "\n",
    "for example in df.head(25).itertuples():\n",
    "    print(example.question)\n",
    "    res = client.get_response(question=example.question)\n",
    "    usage.append(res[1][\"usage\"])\n",
    "    answer = [labels.get(x[\"entity_id\"]) for x in example.answer]\n",
    "    acc = mean(1 if entity in res[0] else 0 for entity in answer)\n",
    "    accs.append(acc)\n",
    "    print(f\"Answer: {answer}\")\n",
    "    print(f\"Accuracy: {acc}\")\n",
    "    print()\n",
    "    print(res[0])\n",
    "    print(\"=\" * 80)\n",
    "    print()\n",
    "    # break"
   ],
   "metadata": {
    "collapsed": false,
    "ExecuteTime": {
     "end_time": "2024-02-04T15:13:59.375081493Z",
     "start_time": "2024-02-04T15:12:42.504607775Z"
    }
   },
   "id": "3827c6c17bd6f7cf",
   "execution_count": 11
  },
  {
   "cell_type": "code",
   "outputs": [
    {
     "data": {
      "text/plain": "0.118"
     },
     "execution_count": 12,
     "metadata": {},
     "output_type": "execute_result"
    }
   ],
   "source": [
    "mean(accs)"
   ],
   "metadata": {
    "collapsed": false,
    "ExecuteTime": {
     "end_time": "2024-02-04T15:13:59.404823676Z",
     "start_time": "2024-02-04T15:13:59.371425268Z"
    }
   },
   "id": "f0677f2c290c6c3a",
   "execution_count": 12
  },
  {
   "cell_type": "code",
   "outputs": [
    {
     "name": "stdout",
     "output_type": "stream",
     "text": [
      "3.5: Cost per example: 0.00010446\n",
      "3.5: Cost for 1120: 0.1169952\n",
      "gpt-4-0125-preview: Cost per example: 0.0020892\n",
      "gpt-4-0125-preview: Cost for 1120: 2.3399039999999998\n",
      "gpt-4: Cost per example: 0.0045192\n",
      "gpt-4: Cost for 1120: 5.061504\n"
     ]
    }
   ],
   "source": [
    "usage_df = pd.DataFrame(usage)\n",
    "cost = (\n",
    "    usage_df.prompt_tokens.sum() / 1000 * 0.0005 + usage_df.completion_tokens.sum() / 1000 * 0.0015\n",
    ")\n",
    "cost_per_example = cost / len(usage_df)\n",
    "print(f\"3.5: Cost per example: {cost_per_example}\")\n",
    "print(f\"3.5: Cost for 1120: {cost_per_example * 1120}\")\n",
    "\n",
    "cost = usage_df.prompt_tokens.sum() / 1000 * 0.01 + usage_df.completion_tokens.sum() / 1000 * 0.03\n",
    "cost_per_example = cost / len(usage_df)\n",
    "print(f\"gpt-4-0125-preview: Cost per example: {cost_per_example}\")\n",
    "print(f\"gpt-4-0125-preview: Cost for 1120: {cost_per_example * 1120}\")\n",
    "\n",
    "cost = usage_df.prompt_tokens.sum() / 1000 * 0.03 + usage_df.completion_tokens.sum() / 1000 * 0.06\n",
    "cost_per_example = cost / len(usage_df)\n",
    "print(f\"gpt-4: Cost per example: {cost_per_example}\")\n",
    "print(f\"gpt-4: Cost for 1120: {cost_per_example * 1120}\")"
   ],
   "metadata": {
    "collapsed": false,
    "ExecuteTime": {
     "end_time": "2024-02-04T15:13:59.441090930Z",
     "start_time": "2024-02-04T15:13:59.397666849Z"
    }
   },
   "id": "e60622bdd9ebacbb",
   "execution_count": 13
  },
  {
   "cell_type": "code",
   "outputs": [],
   "source": [],
   "metadata": {
    "collapsed": false,
    "ExecuteTime": {
     "start_time": "2024-02-04T15:11:51.214739862Z"
    }
   },
   "id": "5984a922d1e961d6"
  }
 ],
 "metadata": {
  "kernelspec": {
   "display_name": "Python 3",
   "language": "python",
   "name": "python3"
  },
  "language_info": {
   "codemirror_mode": {
    "name": "ipython",
    "version": 2
   },
   "file_extension": ".py",
   "mimetype": "text/x-python",
   "name": "python",
   "nbconvert_exporter": "python",
   "pygments_lexer": "ipython2",
   "version": "2.7.6"
  }
 },
 "nbformat": 4,
 "nbformat_minor": 5
}
