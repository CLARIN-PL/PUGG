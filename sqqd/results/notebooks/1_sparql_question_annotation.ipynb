{
 "cells": [
  {
   "cell_type": "code",
   "execution_count": null,
   "id": "initial_id",
   "metadata": {},
   "outputs": [],
   "source": [
    "%load_ext autoreload\n",
    "%autoreload 2"
   ]
  },
  {
   "cell_type": "code",
   "execution_count": null,
   "id": "584a7de8",
   "metadata": {},
   "outputs": [],
   "source": [
    "import sys\n",
    "\n",
    "import matplotlib.pyplot as plt\n",
    "import pandas as pd\n",
    "from tinydb import TinyDB\n",
    "\n",
    "sys.path.append(\"../../../\")\n",
    "from sqqd.defaults import ANNOTATION_PATH, OUTPUT_PATH"
   ]
  },
  {
   "cell_type": "markdown",
   "id": "fdf6e263a1871695",
   "metadata": {},
   "source": [
    "## Data loading"
   ]
  },
  {
   "cell_type": "code",
   "execution_count": null,
   "id": "c583d79a0810819d",
   "metadata": {},
   "outputs": [],
   "source": [
    "def load_annotation_results():\n",
    "    merged_records = {}\n",
    "    annotation_results_db = TinyDB(\n",
    "        ANNOTATION_PATH / \"annotated_db.json\", indent=4, ensure_ascii=False\n",
    "    )\n",
    "    annotation_results_db_table = annotation_results_db.table(\"results\")\n",
    "\n",
    "    results_db = TinyDB(OUTPUT_PATH / \"results_db.json\", indent=4, ensure_ascii=False)\n",
    "    table_results = results_db.table(\"results\")\n",
    "\n",
    "    for annotation_record in annotation_results_db_table.all():\n",
    "        record_id = annotation_record.get(\"id\")\n",
    "        merged_records[record_id] = annotation_record\n",
    "\n",
    "    for result_record in table_results.all():\n",
    "        record_id = result_record.get(\"id\")\n",
    "        if record_id in merged_records:\n",
    "            merged_records[record_id].update(result_record)\n",
    "        else:\n",
    "            merged_records[record_id] = result_record\n",
    "\n",
    "    return merged_records"
   ]
  },
  {
   "cell_type": "code",
   "execution_count": null,
   "id": "5d47db62-a5d9-4145-a8ec-62d8f87da51d",
   "metadata": {},
   "outputs": [],
   "source": [
    "annotated_data = load_annotation_results()"
   ]
  },
  {
   "cell_type": "markdown",
   "id": "a4b9ce4d35acd4c0",
   "metadata": {},
   "source": [
    "## Statistics and plotting"
   ]
  },
  {
   "cell_type": "code",
   "execution_count": null,
   "id": "1221e805-94ad-4276-9631-45741848f8d6",
   "metadata": {},
   "outputs": [],
   "source": [
    "annotated_data_counts = {\n",
    "    template: {0: 0, 1: 0, 2: 0}\n",
    "    for template in set(entry[\"template\"] for entry in annotated_data.values())\n",
    "}\n",
    "\n",
    "# Counting occurrences of annotations for each template\n",
    "for entry in annotated_data.values():\n",
    "    template = entry[\"template\"]\n",
    "    annotation = entry[\"annotation\"]\n",
    "    annotated_data_counts[template][annotation] += 1"
   ]
  },
  {
   "cell_type": "code",
   "execution_count": null,
   "id": "d98396ef56a8a2c5",
   "metadata": {},
   "outputs": [],
   "source": [
    "template_names = list(annotated_data_counts.keys())\n",
    "total_counts = [sum(template.values()) for template in annotated_data_counts.values()]\n",
    "total_sum = sum(total_counts)\n",
    "\n",
    "print(f\"Total count of questions before annotation: {total_sum}\")\n",
    "print(f\"Counts for each template before annotation: \")\n",
    "plt.figure(figsize=(12, 8))\n",
    "plt.bar(template_names, total_counts, color=\"skyblue\")\n",
    "plt.xticks(rotation=45, ha=\"right\")\n",
    "plt.xlabel(\"Template\")\n",
    "plt.ylabel(\"Count\")\n",
    "plt.title(\"Counts for Each Template\")\n",
    "plt.tight_layout()\n",
    "plt.show()"
   ]
  },
  {
   "cell_type": "code",
   "execution_count": null,
   "id": "b94162d93083466c",
   "metadata": {},
   "outputs": [],
   "source": [
    "total_correct = 0\n",
    "correct_counts = {}\n",
    "\n",
    "for template, counts in annotated_data_counts.items():\n",
    "    count_correct = counts.get(1, 0)\n",
    "    correct_counts[template] = count_correct\n",
    "    total_correct += count_correct\n",
    "\n",
    "print(f\"Total count of questions after annotation: {total_correct}\")\n",
    "print(f\"Counts for each template after annotation: \")\n",
    "plt.figure(figsize=(12, 8))\n",
    "plt.bar(correct_counts.keys(), correct_counts.values(), color=\"skyblue\")\n",
    "plt.xticks(rotation=45, ha=\"right\")\n",
    "plt.xlabel(\"Template\")\n",
    "plt.ylabel(\"Count\")\n",
    "plt.title(\"Counts for Each Template\")\n",
    "plt.tight_layout()\n",
    "plt.show()"
   ]
  },
  {
   "cell_type": "markdown",
   "id": "2175e3c1",
   "metadata": {},
   "source": [
    "During the annotation process, it appeared that some of the question construction patterns were repeated in the structurally non-broad templates(such as one-hop templates). These questions were marked as \"resembling\", and they were also excluded from the final result."
   ]
  },
  {
   "cell_type": "code",
   "execution_count": null,
   "id": "ef2c1541621fd5fd",
   "metadata": {},
   "outputs": [],
   "source": [
    "templates = list(annotated_data_counts.keys())\n",
    "\n",
    "values = {\n",
    "    \"Incorrect\": [annotated_data_counts[key][0] for key in templates],\n",
    "    \"Correct\": [annotated_data_counts[key][1] for key in templates],\n",
    "    \"Resembling\": [annotated_data_counts[key][2] for key in templates],\n",
    "}\n",
    "\n",
    "bar_width = 0.25\n",
    "\n",
    "bar1_positions = list(range(len(templates)))\n",
    "bar2_positions = [pos + bar_width for pos in bar1_positions]\n",
    "bar3_positions = [pos + bar_width * 2 for pos in bar1_positions]\n",
    "\n",
    "# Plotting the bars\n",
    "plt.figure(figsize=(12, 8))\n",
    "\n",
    "plt.bar(bar1_positions, values[\"Correct\"], width=bar_width, color=\"green\", label=\"Correct\")\n",
    "plt.bar(bar2_positions, values[\"Incorrect\"], width=bar_width, color=\"red\", label=\"Incorrect\")\n",
    "plt.bar(bar3_positions, values[\"Resembling\"], width=bar_width, color=\"blue\", label=\"Resembling\")\n",
    "\n",
    "plt.xlabel(\"Categories\")\n",
    "plt.ylabel(\"Values\")\n",
    "plt.title(\"Bar Plot with Segmented Colors\")\n",
    "plt.xticks([pos + bar_width for pos in bar1_positions], templates, rotation=45, ha=\"right\")\n",
    "plt.legend()\n",
    "\n",
    "plt.tight_layout()\n",
    "plt.show()"
   ]
  },
  {
   "cell_type": "code",
   "execution_count": null,
   "id": "449102528a93621a",
   "metadata": {},
   "outputs": [],
   "source": [
    "df_summarizing = pd.DataFrame(annotated_data_counts)\n",
    "column_names = {0: \"Incorrect\", 1: \"Correct\", 2: \"Resembling\"}\n",
    "\n",
    "df_summarizing_swapped = df_summarizing.transpose()\n",
    "df_summarizing_swapped = df_summarizing_swapped.rename(columns=column_names)\n",
    "\n",
    "df_summarizing_swapped[\"Total\"] = df_summarizing_swapped.sum(axis=1)\n",
    "\n",
    "print(\"Annotation summarizing table: \")\n",
    "print(df_summarizing_swapped)"
   ]
  }
 ],
 "metadata": {
  "kernelspec": {
   "display_name": "Python 3.10",
   "language": "python",
   "name": "py3.10"
  },
  "language_info": {
   "codemirror_mode": {
    "name": "ipython",
    "version": 3
   },
   "file_extension": ".py",
   "mimetype": "text/x-python",
   "name": "python",
   "nbconvert_exporter": "python",
   "pygments_lexer": "ipython3",
   "version": "3.10.12"
  }
 },
 "nbformat": 4,
 "nbformat_minor": 5
}
